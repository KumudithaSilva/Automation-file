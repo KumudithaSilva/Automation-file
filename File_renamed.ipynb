{
 "cells": [
  {
   "cell_type": "code",
   "execution_count": 12,
   "metadata": {},
   "outputs": [],
   "source": [
    "# File rename\n",
    "\n",
    "#access the folder\n",
    "#check how many files there\n",
    "#get the renamed file\n",
    "#save the renamed file for all existing files\n",
    "\n",
    "import os\n",
    "\n",
    "def file_rename(name):\n",
    "    folder_path = \"G:\\Play_list\"\n",
    "\n",
    "    #verify the folder path\n",
    "    if os.path.isdir(folder_path):\n",
    "        files = os.listdir(folder_path)\n",
    "        file_count = len(files)\n",
    "        \n",
    "        for filename in range(file_count):\n",
    "            if (files[filename].startswith(name)):\n",
    "                     current_name = (files[filename].replace(name,\"\"))\n",
    "\n",
    "                     previous_path = os.path.join(folder_path, files[filename])\n",
    "                     current_path = os.path.join(folder_path, current_name)\n",
    "\n",
    "                     try:\n",
    "                          os.rename(previous_path,current_path)\n",
    "                          print(f\"Renamed {files[filename]} to {current_name}\")\n",
    "                     except FileNotFoundError:\n",
    "                          print(f\"{files[filename]} not exists\")\n",
    "                          \n",
    "            else:\n",
    "                print(\"Folder does not exists\")\n",
    "                \n",
    "    \n",
    "file_rename(\"A7\")"
   ]
  }
 ],
 "metadata": {
  "kernelspec": {
   "display_name": "mycourseraenv",
   "language": "python",
   "name": "python3"
  },
  "language_info": {
   "codemirror_mode": {
    "name": "ipython",
    "version": 3
   },
   "file_extension": ".py",
   "mimetype": "text/x-python",
   "name": "python",
   "nbconvert_exporter": "python",
   "pygments_lexer": "ipython3",
   "version": "3.10.10"
  },
  "orig_nbformat": 4
 },
 "nbformat": 4,
 "nbformat_minor": 2
}
